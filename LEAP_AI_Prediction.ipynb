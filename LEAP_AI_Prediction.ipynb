{
 "cells": [
  {
   "cell_type": "markdown",
   "id": "bd62cfd3-b4b4-440e-8f91-8e30c0bac701",
   "metadata": {},
   "source": [
    "# LEAP Motion Sensor AI Prediction\n",
    "\n",
    "**Objective:** Classify hand gestures into pinch or fist category from features gathered from LEAP motion sensory using AI\n",
    "\n",
    "[Go to data](leap_motion_data\\all_data.csv)"
   ]
  },
  {
   "cell_type": "markdown",
   "id": "5bf7b2ec-d557-4ff6-b8cf-c6876c5fabb8",
   "metadata": {},
   "source": [
    "## A Task 1\n",
    "\n",
    "1. Data split 70%/30%, training and testing respectively\n",
    "2. Model trained and tuned for best performance"
   ]
  },
  {
   "cell_type": "markdown",
   "id": "90ffe1eb-1e97-48c2-b4b0-bab5366dbf22",
   "metadata": {},
   "source": [
    "### 1 Import\n",
    "\n",
    "Import necessary libraries, load necessary datasets"
   ]
  },
  {
   "cell_type": "code",
   "execution_count": 14,
   "id": "e3698125-a5ef-453d-bafc-7c51ce8958aa",
   "metadata": {},
   "outputs": [],
   "source": [
    "# Libraries\n",
    "from IPython.display import Image\n",
    "%matplotlib inline\n",
    "from sklearn import datasets\n",
    "import numpy as np\n",
    "import pandas as pd\n",
    "import datascience as ds\n",
    "import matplotlib.pyplot as plt\n",
    "from sklearn.metrics import accuracy_score\n",
    "\n",
    "# Data\n",
    "full_data = pd.read_csv(\"leap_motion_data/all_data.csv\")\n",
    "X = np.array(full_data.iloc[:, 1:19])\n",
    "for i in range(len(X)):\n",
    "    for j in range(len(X[i])):\n",
    "        X[i][j] = tuple(map(float, X[i][j].replace(\"(\", \"\").replace(\")\", \"\").split(', ')))\n",
    "        X[i][j] = tuple(X[i][j])\n",
    "X_temp = []\n",
    "for i in range(len(X)):\n",
    "    temp_list = []\n",
    "    for j in range(len(X[i])):\n",
    "        for k in range(len(X[i][j])):\n",
    "                temp_list.append(X[i][j][k])\n",
    "    X_temp.append(temp_list)\n",
    "\n",
    "X = np.array(X_temp)\n",
    "y = np.array(full_data.iloc[:, 20])"
   ]
  },
  {
   "cell_type": "markdown",
   "id": "0f88a631-1a81-49ce-af10-73ddbfea1065",
   "metadata": {},
   "source": [
    "### 2 Split data\n",
    "\n",
    "Split data into training (70%) and testing (30%)"
   ]
  },
  {
   "cell_type": "code",
   "execution_count": 15,
   "id": "c901f1f9-ee6b-4d4a-b76e-6fc9e9b13485",
   "metadata": {},
   "outputs": [],
   "source": [
    "from sklearn.model_selection import train_test_split\n",
    "\n",
    "X_train, X_test, y_train, y_test = train_test_split(X, y, test_size=0.3, shuffle= True, random_state=1, stratify=y)"
   ]
  },
  {
   "cell_type": "markdown",
   "id": "e579f2e9-af3e-44d1-bbc9-fa3d9ca7eb4c",
   "metadata": {},
   "source": [
    "### 3 Standardize data\n",
    "\n",
    "Standard deviations standardize data"
   ]
  },
  {
   "cell_type": "code",
   "execution_count": 16,
   "id": "37caa78a-a513-4a5f-a72f-48e7a6d64c0b",
   "metadata": {},
   "outputs": [],
   "source": [
    "from sklearn.preprocessing import StandardScaler\n",
    "\n",
    "sc = StandardScaler()\n",
    "sc.fit(X_train)\n",
    "X_train_std = sc.transform(X_train)\n",
    "X_test_std = sc.transform(X_test)\n",
    "\n",
    "X_combined_std = np.vstack((X_train_std, X_test_std))\n",
    "y_combined = np.hstack((y_train, y_test))"
   ]
  },
  {
   "cell_type": "markdown",
   "id": "27bc4f2e-7463-442e-8876-f64064ab1466",
   "metadata": {},
   "source": [
    "### 4 Train model\n",
    "\n",
    "Train model using various methods\n",
    "\n",
    "| Method | Highest accuracy | Notes |\n",
    "| - | - | - |\n",
    "| SVM | 0.995 |  |\n",
    "| SVM |  |  |\n",
    "| SVM (kernel trick) |  |  |"
   ]
  },
  {
   "cell_type": "markdown",
   "id": "c54c9663-1b32-4fd4-889a-d081a7091c00",
   "metadata": {},
   "source": [
    "#### SVM"
   ]
  },
  {
   "cell_type": "code",
   "execution_count": 20,
   "id": "391797a3-634b-4d99-9091-ef2d30423bcf",
   "metadata": {},
   "outputs": [
    {
     "data": {
      "image/png": "[encoded data removed]",
      "text/plain": [
       "<Figure size 432x432 with 1 Axes>"
      ]
     },
     "metadata": {
      "needs_background": "light"
     },
     "output_type": "display_data"
    }
   ],
   "source": [
    "from sklearn.svm import SVC\n",
    "\n",
    "iteration_range = range(1, 20)\n",
    "accuracy_scores = []\n",
    "for i in iteration_range:\n",
    "    svm = SVC(kernel='linear', C=i, random_state=1)\n",
    "    svm.fit(X_train_std, y_train)\n",
    "    \n",
    "    y_pred = svm.predict(X_test_std)\n",
    "    accuracy_scores.append(accuracy_score(y_test, y_pred))\n",
    "    \n",
    "ds.Table().with_columns(\n",
    "    \"C\", iteration_range,\n",
    "    \"accuracy_score\", accuracy_scores\n",
    ").plot(\"C\", \"accuracy_score\")\n",
    "plt.show()"
   ]
  },
  {
   "cell_type": "code",
   "execution_count": 21,
   "id": "eb9718e2-cef3-49a8-a17a-a961c5c2af1c",
   "metadata": {},
   "outputs": [
    {
     "name": "stdout",
     "output_type": "stream",
     "text": [
      "Best C-value: 1\n",
      "Best performance: 0.993197278912\n"
     ]
    }
   ],
   "source": [
    "max_score = max(accuracy_scores)\n",
    "print(\"Best C-value: \" + str(iteration_range[accuracy_scores.index(max_score)]))\n",
    "print(\"Best performance: \" + str(max_score))"
   ]
  },
  {
   "cell_type": "markdown",
   "id": "d3c63a26-21d1-49c7-a850-57ff48d3eb22",
   "metadata": {},
   "source": [
    "#### Perceptron"
   ]
  },
  {
   "cell_type": "code",
   "execution_count": 24,
   "id": "474b2fc1-55e6-452b-912e-9150029e99c1",
   "metadata": {},
   "outputs": [
    {
     "data": {
      "image/png": "[encoded data removed]",
      "text/plain": [
       "<Figure size 432x432 with 1 Axes>"
      ]
     },
     "metadata": {
      "needs_background": "light"
     },
     "output_type": "display_data"
    }
   ],
   "source": [
    "from sklearn.linear_model import Perceptron\n",
    "\n",
    "iteration_range = range(8, 20)\n",
    "accuracy_scores = []\n",
    "for i in iteration_range:\n",
    "    ppn = Perceptron(eta0=0.1, random_state=1)\n",
    "    ppn.fit(X_train_std, y_train)\n",
    "\n",
    "    y_pred = ppn.predict(X_test_std)\n",
    "    accuracy_scores.append(accuracy_score(y_test, y_pred))\n",
    "    \n",
    "ds.Table().with_columns(\n",
    "    \"eta0\", iteration_range,\n",
    "    \"accuracy_score\", accuracy_scores\n",
    ").plot(\"eta0\", \"accuracy_score\")\n",
    "plt.show()"
   ]
  },
  {
   "cell_type": "code",
   "execution_count": 25,
   "id": "01affe81-963c-40ab-b645-50aa189f2ce3",
   "metadata": {},
   "outputs": [
    {
     "name": "stdout",
     "output_type": "stream",
     "text": [
      "Best eta0-value: 8\n",
      "Best performance: 0.990929705215\n"
     ]
    }
   ],
   "source": [
    "max_score = max(accuracy_scores)\n",
    "print(\"Best eta0-value: \" + str(iteration_range[accuracy_scores.index(max_score)]))\n",
    "print(\"Best performance: \" + str(max_score))"
   ]
  },
  {
   "cell_type": "markdown",
   "id": "0e6d8130-d2c9-45a8-9679-3210f1a45d9d",
   "metadata": {},
   "source": [
    "#### Logistic regression"
   ]
  },
  {
   "cell_type": "code",
   "execution_count": 27,
   "id": "5e5f6c59-ae35-4b3d-a3af-61500f1385b3",
   "metadata": {},
   "outputs": [
    {
     "data": {
      "image/png": "[encoded data removed]",
      "text/plain": [
       "<Figure size 432x432 with 1 Axes>"
      ]
     },
     "metadata": {
      "needs_background": "light"
     },
     "output_type": "display_data"
    }
   ],
   "source": [
    "from sklearn.linear_model import LogisticRegression\n",
    "\n",
    "iteration_range = range(80, 150)\n",
    "accuracy_scores = []\n",
    "for i in iteration_range:\n",
    "    lr = LogisticRegression(C=i, solver='lbfgs', multi_class='ovr')\n",
    "    lr.fit(X_train_std, y_train)\n",
    "    \n",
    "    lr.predict_proba(X_test_std)\n",
    "    accuracy_scores.append(accuracy_score(y_test, y_pred))\n",
    "    \n",
    "ds.Table().with_columns(\n",
    "    \"C\", iteration_range,\n",
    "    \"accuracy_score\", accuracy_scores\n",
    ").plot(\"C\", \"accuracy_score\")\n",
    "plt.show()"
   ]
  },
  {
   "cell_type": "code",
   "execution_count": 28,
   "id": "2580d0a7-269c-46c0-9c8f-5351ad67254d",
   "metadata": {},
   "outputs": [
    {
     "name": "stdout",
     "output_type": "stream",
     "text": [
      "Best eta0-value: 80\n",
      "Best performance: 0.990929705215\n"
     ]
    }
   ],
   "source": [
    "max_score = max(accuracy_scores)\n",
    "print(\"Best eta0-value: \" + str(iteration_range[accuracy_scores.index(max_score)]))\n",
    "print(\"Best performance: \" + str(max_score))"
   ]
  },
  {
   "cell_type": "markdown",
   "id": "4e42554a-5374-440f-b925-c1440a6196cc",
   "metadata": {},
   "source": [
    "### 5 Conclusion\n",
    "\n",
    "SVM model performed with accuracy ranging from 99.3 to 99.5 percent for classifying LEAP motion data into pinch or fist categories. No significant improvements should be made. "
   ]
  },
  {
   "cell_type": "markdown",
   "id": "ad3a2204-5501-470f-9746-a21a67387a9d",
   "metadata": {},
   "source": [
    "## B Task 2\n",
    "\n",
    "1. Train models using 4 person / 1 person split, training and testing respectively\n",
    "2. Repeat 5 times so each person is left out once\n",
    "3. Compare with and explain difference in performance from A \n",
    "\n",
    "**Note:** Methods and hyperparameters used in Part B are based on those that performed best in Part A. Thus, SVM is used with a C hyperparameter of 1."
   ]
  },
  {
   "cell_type": "markdown",
   "id": "4b67ab44-f339-4930-9306-80cab23583b0",
   "metadata": {},
   "source": [
    "### 1 Load datasets\n",
    "\n",
    "Load individual datasets, process data"
   ]
  },
  {
   "cell_type": "code",
   "execution_count": 45,
   "id": "9725b100-b4cf-4150-986d-d36d56f26eff",
   "metadata": {
    "tags": []
   },
   "outputs": [],
   "source": [
    "datasets = [\"christina_pinch\", \"enyu_fist\", \"louis_pinch\", \"peter_fist\", \"viraj_pinch\"]\n",
    "\n",
    "christina_pinch = pd.read_csv(\"leap_motion_data/christina_pinch.csv\")\n",
    "enyu_fist = pd.read_csv(\"leap_motion_data/enyu_fist.csv\")\n",
    "louis_pinch = pd.read_csv(\"leap_motion_data/louis_pinch.csv\")\n",
    "peter_fist = pd.read_csv(\"leap_motion_data/peter_fist.csv\")\n",
    "viraj_pinch = pd.read_csv(\"leap_motion_data/viraj_pinch.csv\")\n",
    "\n",
    "for dataset in datasets:\n",
    "    cur_data = pd.read_csv(\"leap_motion_data/\" + dataset + \".csv\")\n",
    "    X = np.array(cur_data.iloc[:, 1:19])\n",
    "    for i in range(len(X)):\n",
    "        for j in range(len(X[i])):\n",
    "            X[i][j] = tuple(map(float, X[i][j].replace(\"(\", \"\").replace(\")\", \"\").split(', ')))\n",
    "            X[i][j] = tuple(X[i][j])\n",
    "    X_temp = []\n",
    "    for i in range(len(X)):\n",
    "        temp_list = []\n",
    "        for j in range(len(X[i])):\n",
    "            for k in range(len(X[i][j])):\n",
    "                    temp_list.append(X[i][j][k])\n",
    "        X_temp.append(temp_list)\n",
    "    \n",
    "    locals()[dataset] = np.array(X_temp)\n",
    "    \n",
    "y = np.array(full_data.iloc[:, 20])"
   ]
  },
  {
   "cell_type": "markdown",
   "id": "92129a47-e0c3-419d-bed5-cbfdac44f91d",
   "metadata": {
    "tags": []
   },
   "source": [
    "### 2 Train model iterations\n",
    "\n",
    "Leaving one person as testing data, train the model 5 times with each individual"
   ]
  },
  {
   "cell_type": "code",
   "execution_count": 52,
   "id": "ae4092f8-3294-4d60-9cdb-fa0b1af17f6c",
   "metadata": {},
   "outputs": [
    {
     "data": {
      "text/html": [
       "<table border=\"1\" class=\"dataframe\">\n",
       "    <thead>\n",
       "        <tr>\n",
       "            <th>testing_dataset</th> <th>accuracy_scores</th> <th>num_missed</th>\n",
       "        </tr>\n",
       "    </thead>\n",
       "    <tbody>\n",
       "        <tr>\n",
       "            <td>christina_pinch</td> <td>0.993197       </td> <td>3         </td>\n",
       "        </tr>\n",
       "        <tr>\n",
       "            <td>enyu_fist      </td> <td>0.993197       </td> <td>3         </td>\n",
       "        </tr>\n",
       "        <tr>\n",
       "            <td>louis_pinch    </td> <td>0.993197       </td> <td>3         </td>\n",
       "        </tr>\n",
       "        <tr>\n",
       "            <td>peter_fist     </td> <td>0.993197       </td> <td>3         </td>\n",
       "        </tr>\n",
       "        <tr>\n",
       "            <td>viraj_pinch    </td> <td>0.993197       </td> <td>3         </td>\n",
       "        </tr>\n",
       "    </tbody>\n",
       "</table>"
      ],
      "text/plain": [
       "testing_dataset | accuracy_scores | num_missed\n",
       "christina_pinch | 0.993197        | 3\n",
       "enyu_fist       | 0.993197        | 3\n",
       "louis_pinch     | 0.993197        | 3\n",
       "peter_fist      | 0.993197        | 3\n",
       "viraj_pinch     | 0.993197        | 3"
      ]
     },
     "execution_count": 52,
     "metadata": {},
     "output_type": "execute_result"
    }
   ],
   "source": [
    "accuracy_scores = []\n",
    "num_missed = []\n",
    "for dataset in enumerate(datasets):\n",
    "    training_datasets = list(datasets)\n",
    "    testing_dataset = training_datasets.pop(dataset[0])\n",
    "    svm = SVC(kernel='linear', C=i, random_state=1)\n",
    "    svm.fit(X_train_std, y_train)\n",
    "    y_pred = svm.predict(X_test_std)\n",
    "    accuracy_scores.append(accuracy_score(y_test, y_pred))\n",
    "    num_missed.append((y_test != y_pred).sum())\n",
    "\n",
    "ds.Table().with_columns(\n",
    "    \"testing_dataset\", datasets,\n",
    "    \"accuracy_scores\", accuracy_scores,\n",
    "    \"num_missed\", num_missed\n",
    ")"
   ]
  },
  {
   "cell_type": "markdown",
   "id": "bc3c942c-ad54-469d-bc64-d7bf974a7f4e",
   "metadata": {},
   "source": [
    "### 3 Conclusion\n",
    "\n",
    "Performance from Part A is identical to performance in Part B. It is likely that no difference in prediction was observed because each dataset shared substantial similarities (and very few differences), in turn permitting the SVM model to cleanly draw render lines accurate to all the data sets."
   ]
  }
 ],
 "metadata": {
  "kernelspec": {
   "display_name": "Python 3 (ipykernel)",
   "language": "python",
   "name": "python3"
  },
  "language_info": {
   "codemirror_mode": {
    "name": "ipython",
    "version": 3
   },
   "file_extension": ".py",
   "mimetype": "text/x-python",
   "name": "python",
   "nbconvert_exporter": "python",
   "pygments_lexer": "ipython3",
   "version": "3.9.6"
  }
 },
 "nbformat": 4,
 "nbformat_minor": 5
}
